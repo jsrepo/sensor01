{
  "nbformat": 4,
  "nbformat_minor": 0,
  "metadata": {
    "kernelspec": {
      "display_name": "Python 3",
      "language": "python",
      "name": "python3"
    },
    "associatedRecipe": "compute_new_FD001_features",
    "creator": "nanae",
    "createdOn": 1628648160860,
    "tags": [
      "recipe-editor"
    ],
    "customFields": {}
  },
  "cells": [
    {
      "cell_type": "code",
      "metadata": {},
      "outputs": [],
      "execution_count": 0,
      "source": [
        "# -*- coding: utf-8 -*-\n",
        "import dataiku\n",
        "import pandas as pd, numpy as np\n",
        "from dataiku import pandasutils as pdu"
      ]
    },
    {
      "cell_type": "code",
      "metadata": {},
      "outputs": [],
      "execution_count": 0,
      "source": [
        "# Declare input and output objects\n",
        "dku_input \u003d dataiku.Dataset(\"new_FD001_cycles_movingavg\")\n",
        "dku_output \u003d dataiku.Dataset(\"new_FD001_features\")"
      ]
    },
    {
      "cell_type": "code",
      "metadata": {},
      "outputs": [],
      "execution_count": 0,
      "source": [
        "df_input \u003d dku_input.get_dataframe()\n",
        "df_output \u003d df_input"
      ]
    },
    {
      "cell_type": "code",
      "metadata": {},
      "outputs": [],
      "execution_count": 0,
      "source": [
        "def calc_ratio(a,b):\n",
        "    if a \u003d\u003d 0:\n",
        "        return np.nan\n",
        "    else:\n",
        "        return (b - a)/a"
      ]
    },
    {
      "cell_type": "code",
      "metadata": {},
      "outputs": [],
      "execution_count": 0,
      "source": [
        "for i in range(1,4):\n",
        "    current_setting \u003d \"setting_\" + str(i)\n",
        "    current_max_setting \u003d \"pct_to_max_\" + current_setting\n",
        "    current_min_setting \u003d \"pct_to_min_\" + current_setting\n",
        "    current_full_max \u003d \"w_full_history_\" + current_setting + \"_max\"\n",
        "    current_full_min \u003d \"w_full_history_\" + current_setting + \"_min\"\n",
        "\n",
        "    df_output[current_max_setting] \u003d df_output.apply(lambda row: calc_ratio(row[current_setting], row[current_full_max]), axis\u003d1)\n",
        "    df_output[current_min_setting] \u003d df_output.apply(lambda row: calc_ratio(row[current_full_min], row[current_setting]), axis\u003d1)\n",
        "\n",
        "    del df_output[current_full_max]\n",
        "    del df_output[current_full_min]\n",
        "    del df_output[\"w_full_history_\" + current_setting + \"_avg\"]\n",
        "    del df_output[\"w10_cycles_\" + current_setting + \"_min\"]\n",
        "    del df_output[\"w10_cycles_\" + current_setting + \"_max\"]"
      ]
    },
    {
      "cell_type": "code",
      "metadata": {},
      "outputs": [],
      "execution_count": 0,
      "source": [
        "for i in range(1,22):\n",
        "    current_sensor \u003d \"sensor_\" + str(i)\n",
        "    current_max_sensor \u003d \"pct_to_max_\" + current_sensor\n",
        "    current_min_sensor \u003d \"pct_to_min_\" + current_sensor\n",
        "    current_full_sensor_max \u003d \"w_full_history_\" + current_sensor + \"_max\"\n",
        "    current_full_sensor_min \u003d \"w_full_history_\" + current_sensor + \"_min\"\n",
        "\n",
        "    df_output[current_max_sensor] \u003d df_output.apply(lambda row: calc_ratio(row[current_sensor], row[current_full_sensor_max]), axis\u003d1)\n",
        "    df_output[current_min_sensor] \u003d df_output.apply(lambda row: calc_ratio(row[current_full_sensor_min], row[current_sensor]), axis\u003d1)\n",
        "\n",
        "    del df_output[current_full_sensor_max]\n",
        "    del df_output[current_full_sensor_min]\n",
        "    del df_output[\"w_full_history_\" + current_sensor + \"_avg\"]\n",
        "    del df_output[\"w10_cycles_\" + current_sensor + \"_min\"]\n",
        "    del df_output[\"w10_cycles_\" + current_sensor + \"_max\"]"
      ]
    },
    {
      "cell_type": "code",
      "metadata": {},
      "outputs": [],
      "execution_count": 0,
      "source": [
        "dku_output.write_with_schema(df_output)"
      ]
    }
  ]
}