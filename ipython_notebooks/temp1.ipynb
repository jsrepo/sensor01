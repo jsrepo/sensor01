{
  "metadata": {
    "kernelspec": {
      "name": "py-dku-containerized-venv-basep37-apac-eks-small",
      "display_name": "Python in apac-eks-small (env baseP37)",
      "language": "python"
    },
    "creator": "nanae.admin",
    "createdOn": 1629248995060,
    "tags": [],
    "customFields": {},
    "hide_input": false,
    "language_info": {
      "name": "python",
      "version": "3.7.10",
      "mimetype": "text/x-python",
      "codemirror_mode": {
        "name": "ipython",
        "version": 3
      },
      "pygments_lexer": "ipython3",
      "nbconvert_exporter": "python",
      "file_extension": ".py"
    },
    "modifiedBy": "nanae.admin"
  },
  "nbformat": 4,
  "nbformat_minor": 1,
  "cells": [
    {
      "execution_count": 0,
      "cell_type": "code",
      "metadata": {},
      "source": [
        "%pylab inline"
      ],
      "outputs": []
    },
    {
      "execution_count": 0,
      "cell_type": "code",
      "metadata": {},
      "source": [
        "import dataiku\nfrom dataiku import pandasutils as pdu\nimport pandas as pd"
      ],
      "outputs": []
    },
    {
      "execution_count": 0,
      "cell_type": "code",
      "metadata": {},
      "source": [
        "# Example: load a DSS dataset as a Pandas dataframe\nmydataset \u003d dataiku.Dataset(\"mydataset\")\nmydataset_df \u003d mydataset.get_dataframe()"
      ],
      "outputs": []
    },
    {
      "execution_count": 1,
      "cell_type": "code",
      "metadata": {},
      "source": [
        "!whoami"
      ],
      "outputs": [
        {
          "output_type": "stream",
          "text": "dataiku\r\n",
          "name": "stdout"
        }
      ]
    },
    {
      "execution_count": 2,
      "cell_type": "code",
      "metadata": {},
      "source": [
        "!free-h"
      ],
      "outputs": [
        {
          "output_type": "stream",
          "text": "/bin/bash: free-h: command not found\r\n",
          "name": "stdout"
        }
      ]
    },
    {
      "execution_count": 3,
      "cell_type": "code",
      "metadata": {},
      "source": [
        "!free -h"
      ],
      "outputs": [
        {
          "output_type": "stream",
          "text": "              total        used        free      shared  buff/cache   available\r\nMem:            30G        967M         24G        896K        4.7G         29G\r\nSwap:            0B          0B          0B\r\n",
          "name": "stdout"
        }
      ]
    },
    {
      "execution_count": 0,
      "cell_type": "code",
      "metadata": {},
      "source": [
        ""
      ],
      "outputs": []
    }
  ]
}